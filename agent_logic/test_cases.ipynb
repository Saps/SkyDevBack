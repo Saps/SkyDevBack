{
 "cells": [
  {
   "cell_type": "markdown",
   "id": "9e285b42",
   "metadata": {},
   "source": [
    "### Модули"
   ]
  },
  {
   "cell_type": "code",
   "execution_count": 1,
   "id": "5a973e62",
   "metadata": {},
   "outputs": [],
   "source": [
    "from langchain_core.runnables.graph import MermaidDrawMethod\n",
    "from langchain_core.messages import HumanMessage\n",
    "\n",
    "from langgraph.types import Command\n",
    "from loguru import logger\n",
    "from src.agent.graph import hr_graph\n",
    "\n",
    "from IPython.display import Image, display\n",
    "import uuid\n"
   ]
  },
  {
   "cell_type": "code",
   "execution_count": 2,
   "id": "123345ad",
   "metadata": {},
   "outputs": [],
   "source": [
    "from dotenv import find_dotenv, dotenv_values\n",
    "\n",
    "config = dotenv_values(find_dotenv(\".env\"))"
   ]
  },
  {
   "cell_type": "code",
   "execution_count": 3,
   "id": "9c9ce845",
   "metadata": {},
   "outputs": [
    {
     "name": "stdout",
     "output_type": "stream",
     "text": [
      "---\n",
      "config:\n",
      "  flowchart:\n",
      "    curve: linear\n",
      "---\n",
      "graph TD;\n",
      "\t__start__([<p>__start__</p>]):::first\n",
      "\tgreet(greet)\n",
      "\thuman(human)\n",
      "\trouter(router)\n",
      "\tcompatibility_stub(compatibility_stub)\n",
      "\tinterview_stub(interview_stub)\n",
      "\t__end__([<p>__end__</p>]):::last\n",
      "\t__start__ --> greet;\n",
      "\tgreet -.-> human;\n",
      "\thuman -.-> router;\n",
      "\trouter -.-> compatibility_stub;\n",
      "\trouter -.-> human;\n",
      "\trouter -.-> interview_stub;\n",
      "\tcompatibility_stub --> __end__;\n",
      "\tinterview_stub --> __end__;\n",
      "\tclassDef default fill:#f2f0ff,line-height:1.2\n",
      "\tclassDef first fill-opacity:0\n",
      "\tclassDef last fill:#bfb6fc\n",
      "\n"
     ]
    },
    {
     "data": {
      "image/png": "[encoded data removed]",
      "text/plain": [
       "<IPython.core.display.Image object>"
      ]
     },
     "metadata": {},
     "output_type": "display_data"
    }
   ],
   "source": [
    "mermaid_src = hr_graph.get_graph(xray=1).draw_mermaid()\n",
    "with open(\"hr_graph.mmd\", \"w\", encoding=\"utf-8\") as f:\n",
    "    f.write(mermaid_src)\n",
    "print(mermaid_src)  \n",
    "\n",
    "mermaid_src = hr_graph.get_graph(xray=1).draw_mermaid_png(draw_method=MermaidDrawMethod.API)\n",
    "display(Image(mermaid_src))\n"
   ]
  },
  {
   "cell_type": "code",
   "execution_count": null,
   "id": "b0417a33",
   "metadata": {},
   "outputs": [
    {
     "name": "stderr",
     "output_type": "stream",
     "text": [
      "\u001b[34m20:01:35.010 | CHAT      | ▶️ greet(): запуск приветствия\u001b[0m\n",
      "\u001b[34m20:01:35.012 | CHAT      | 🤖 Приветствие: Привет! Я HR-копайлот. Могу:\n",
      "1) Оценить совместимость резюме и вакансии.\n",
      "2) Проанализировать интервью и дать портрет кандидата.\n",
      "Сформулируй запрос в одной фразе.\u001b[0m\n"
     ]
    },
    {
     "name": "stdin",
     "output_type": "stream",
     "text": [
      "\n",
      "Ты:  Проанализировать интервью\n"
     ]
    },
    {
     "name": "stderr",
     "output_type": "stream",
     "text": [
      "\u001b[34m20:01:49.845 | CHAT      | 💬 Пользователь: Проанализировать интервью\u001b[0m\n",
      "\u001b[36m20:01:49.849 | CONTEXT   | 🔍 router(): анализируем запрос: Проанализировать интервью\u001b[0m\n",
      "\u001b[32m20:01:51.220 | DATA      | 📩 LLM ответ для роутинга: {\n",
      "    \"intent\": \"interview\",\n",
      "    \"relevance\": {\n",
      "        \"compatibility\": 0,\n",
      "        \"interview\": 100\n",
      "    },\n",
      "    \"reason\": \"Запрос явно указывает на необходимость анализа интервью\"\n",
      "}\u001b[0m\n",
      "\u001b[35m20:01:51.221 | REASONING | intent=interview, relevance={'compatibility': 0, 'interview': 100}, reason='Запрос явно указывает на необходимость анализа интервью'\u001b[0m\n",
      "\u001b[34m20:01:51.224 | CHAT      | 🔧 Нода «Анализ интервью / портрет кандидата» пока не разработана.\u001b[0m\n"
     ]
    }
   ],
   "source": [
    "from uuid import uuid4\n",
    "from langgraph.types import Command\n",
    "\n",
    "cfg = {\"configurable\": {\"thread_id\": f\"hr-{uuid4()}\"}}\n",
    "\n",
    "state = {\n",
    "    \"messages\": [],\n",
    "    \"user_input\": \"\",\n",
    "    \"intent\": None,\n",
    "    \"meta\": {},\n",
    "}\n",
    "\n",
    "for _ in hr_graph.stream(state, config=cfg, stream_mode=\"updates\"):\n",
    "    pass\n",
    "\n",
    "# интерактив\n",
    "while True:\n",
    "    text = input(\"\\nТы: \").strip()\n",
    "    if text.lower() in {\"q\", \"quit\", \"exit\"}:\n",
    "        break\n",
    "    for _ in hr_graph.stream(Command(resume=text), config=cfg, stream_mode=\"updates\"):\n",
    "        pass\n"
   ]
  },
  {
   "cell_type": "code",
   "execution_count": null,
   "id": "0887daaf-b1bb-40b2-ab23-897dbb283b27",
   "metadata": {},
   "outputs": [],
   "source": []
  }
 ],
 "metadata": {
  "kernelspec": {
   "display_name": "Python 3 (ipykernel)",
   "language": "python",
   "name": "python3"
  },
  "language_info": {
   "codemirror_mode": {
    "name": "ipython",
    "version": 3
   },
   "file_extension": ".py",
   "mimetype": "text/x-python",
   "name": "python",
   "nbconvert_exporter": "python",
   "pygments_lexer": "ipython3",
   "version": "3.12.7"
  }
 },
 "nbformat": 4,
 "nbformat_minor": 5
}
